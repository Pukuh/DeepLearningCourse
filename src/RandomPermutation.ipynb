{
 "cells": [
  {
   "cell_type": "code",
   "execution_count": 1,
   "id": "ada1e380",
   "metadata": {},
   "outputs": [],
   "source": [
    "import random\n",
    "\n",
    "def random_permutation(a: int, b: int) -> list[int]:\n",
    "    \"\"\"\n",
    "    Generate a random permutation of integers between a and b inclusive.\n",
    "    \n",
    "    Args:\n",
    "        a (int): Start of the range.\n",
    "        b (int): End of the range.\n",
    "    \n",
    "    Returns:\n",
    "        list[int]: A random permutation of integers in [a, b].\n",
    "    \"\"\"\n",
    "    numbers = list(range(a, b + 1))\n",
    "    random.shuffle(numbers)\n",
    "    return numbers"
   ]
  },
  {
   "cell_type": "code",
   "execution_count": 4,
   "id": "d47d5658",
   "metadata": {},
   "outputs": [
    {
     "data": {
      "text/plain": [
       "[14, 18, 13, 8, 19, 5, 15, 2, 11, 10, 12, 1, 17, 6, 9, 16, 7, 3, 4]"
      ]
     },
     "execution_count": 4,
     "metadata": {},
     "output_type": "execute_result"
    }
   ],
   "source": [
    "random_permutation(1, 19)"
   ]
  }
 ],
 "metadata": {
  "kernelspec": {
   "display_name": "torch2_8",
   "language": "python",
   "name": "python3"
  },
  "language_info": {
   "codemirror_mode": {
    "name": "ipython",
    "version": 3
   },
   "file_extension": ".py",
   "mimetype": "text/x-python",
   "name": "python",
   "nbconvert_exporter": "python",
   "pygments_lexer": "ipython3",
   "version": "3.9.23"
  }
 },
 "nbformat": 4,
 "nbformat_minor": 5
}
